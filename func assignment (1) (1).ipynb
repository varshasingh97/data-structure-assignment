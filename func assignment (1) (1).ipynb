{
 "cells": [
  {
   "cell_type": "code",
   "execution_count": 1,
   "id": "6820f2c8-b339-40be-ac6e-dec00316a710",
   "metadata": {},
   "outputs": [],
   "source": [
    "'''Q1. Which keyword is used to create a function? Create a function to return a list of odd numbers in the\n",
    "range of 1 to 25.'''\n",
    " # def keyword is used to create a function . \n",
    "def odd():\n",
    "    l1 =[]\n",
    "    for i in range(25):\n",
    "        if i%2!=0:\n",
    "            l1.append(i)\n",
    "    return l1        "
   ]
  },
  {
   "cell_type": "code",
   "execution_count": 2,
   "id": "cf9e5a09-04b6-410e-9af0-00417b045556",
   "metadata": {},
   "outputs": [
    {
     "data": {
      "text/plain": [
       "[1, 3, 5, 7, 9, 11, 13, 15, 17, 19, 21, 23]"
      ]
     },
     "execution_count": 2,
     "metadata": {},
     "output_type": "execute_result"
    }
   ],
   "source": [
    "odd()"
   ]
  },
  {
   "cell_type": "code",
   "execution_count": 5,
   "id": "a38a9623-cb37-4321-bb1b-e0e43bcd57d5",
   "metadata": {},
   "outputs": [],
   "source": [
    "'''Q2. Why *args and **kwargs is used in some functions? Create a function each for *args and **kwargs\n",
    "to demonstrate their use.'''\n",
    "''' ans. *args is used to pass n number of data in tuple . \n",
    "       **kwargs is used to pass a keyworded variable-lenth argument list . datatype of kwargs is dictionary.'''\n",
    "\n",
    "def test(*args, p):\n",
    "    return args , p "
   ]
  },
  {
   "cell_type": "code",
   "execution_count": 6,
   "id": "72dc3861-0ad6-4181-af78-67ad90fda0dc",
   "metadata": {},
   "outputs": [
    {
     "data": {
      "text/plain": [
       "((78,), 8)"
      ]
     },
     "execution_count": 6,
     "metadata": {},
     "output_type": "execute_result"
    }
   ],
   "source": [
    "test(78, p=8)"
   ]
  },
  {
   "cell_type": "code",
   "execution_count": 8,
   "id": "c33e349b-91e9-4532-9911-73d37f6b9487",
   "metadata": {},
   "outputs": [],
   "source": [
    "def test1(**kwargs):\n",
    "    return kwargs"
   ]
  },
  {
   "cell_type": "code",
   "execution_count": 10,
   "id": "1d73d9a3-da7e-4e1f-80c1-b8b1bf072c4d",
   "metadata": {},
   "outputs": [
    {
     "data": {
      "text/plain": [
       "{'a': [45, 80, 'varsha'], 'b': True}"
      ]
     },
     "execution_count": 10,
     "metadata": {},
     "output_type": "execute_result"
    }
   ],
   "source": [
    "test1(a=[45,80,'varsha'],b = True)"
   ]
  },
  {
   "cell_type": "code",
   "execution_count": 2,
   "id": "065cae6c-965c-4232-8f7e-88e79308f8ca",
   "metadata": {},
   "outputs": [],
   "source": [
    "'''Q3. What is an iterator in python? Name the method used to initialise the iterator object and the method\n",
    "used for iteration. Use these methods to print the first five elements of the given list [2, 4, 6, 8, 10, 12, 14,\n",
    "16, 18, 20].\n",
    "\n",
    "ans. iterator is an object used to iterate or loop over collections of data , list , set ,tuple, dictionary .\n",
    "  int() method used to initialise and next() method fot iteration '''\n",
    "\n",
    "l = [ 2,4,6,8,10,12,14,16,18,20]\n"
   ]
  },
  {
   "cell_type": "code",
   "execution_count": 5,
   "id": "f53db448-47a2-43c3-ba45-8ddf25168f0f",
   "metadata": {},
   "outputs": [],
   "source": [
    "def first_5():\n",
    "    l1=[]\n",
    "    for i in l:\n",
    "        if i <=10:\n",
    "            yield(i)\n",
    "            "
   ]
  },
  {
   "cell_type": "code",
   "execution_count": 6,
   "id": "3983fca5-0014-4785-8e42-0e07d57339fc",
   "metadata": {},
   "outputs": [],
   "source": [
    "element = first_5()"
   ]
  },
  {
   "cell_type": "code",
   "execution_count": 7,
   "id": "d310ebd3-a5a7-4bca-83e7-fa0152ab70c1",
   "metadata": {},
   "outputs": [
    {
     "name": "stdout",
     "output_type": "stream",
     "text": [
      "2\n",
      "4\n",
      "6\n",
      "8\n",
      "10\n"
     ]
    },
    {
     "ename": "StopIteration",
     "evalue": "",
     "output_type": "error",
     "traceback": [
      "\u001b[0;31m---------------------------------------------------------------------------\u001b[0m",
      "\u001b[0;31mStopIteration\u001b[0m                             Traceback (most recent call last)",
      "Cell \u001b[0;32mIn[7], line 2\u001b[0m\n\u001b[1;32m      1\u001b[0m \u001b[38;5;28;01mfor\u001b[39;00m i \u001b[38;5;129;01min\u001b[39;00m l :\n\u001b[0;32m----> 2\u001b[0m     \u001b[38;5;28mprint\u001b[39m(\u001b[38;5;28;43mnext\u001b[39;49m\u001b[43m(\u001b[49m\u001b[43melement\u001b[49m\u001b[43m)\u001b[49m)\n",
      "\u001b[0;31mStopIteration\u001b[0m: "
     ]
    }
   ],
   "source": [
    "for i in l :\n",
    "    print(next(element))"
   ]
  },
  {
   "cell_type": "code",
   "execution_count": 9,
   "id": "66830f7c-50a2-4c00-bb79-abd0f90639fa",
   "metadata": {},
   "outputs": [],
   "source": [
    "'''Q4. What is a generator function in python? Why yield keyword is used? Give an example of a generator\n",
    "function.\n",
    "ans. generator function produces one object at a time without taking space in memory . instead of 'return' in \n",
    "     normal function, generator function uses 'yield'.'''\n",
    "\n",
    "def generator(n):\n",
    "    a,b=2,3\n",
    "    for i in range(5):\n",
    "        yield a\n",
    "        a = a*b"
   ]
  },
  {
   "cell_type": "code",
   "execution_count": 10,
   "id": "84419e39-8a9a-4c1f-93c4-50b2c9fea6d8",
   "metadata": {},
   "outputs": [
    {
     "name": "stdout",
     "output_type": "stream",
     "text": [
      "2\n",
      "6\n",
      "18\n",
      "54\n",
      "162\n"
     ]
    }
   ],
   "source": [
    "for i in generator(5):\n",
    "    print (i)"
   ]
  },
  {
   "cell_type": "code",
   "execution_count": 54,
   "id": "398c7fce-14db-44c1-8358-dcf4ae50e794",
   "metadata": {},
   "outputs": [
    {
     "name": "stdout",
     "output_type": "stream",
     "text": [
      "2\n",
      "3\n",
      "5\n",
      "7\n",
      "11\n",
      "13\n",
      "17\n",
      "19\n",
      "23\n",
      "29\n",
      "31\n",
      "37\n",
      "41\n",
      "43\n",
      "47\n",
      "53\n",
      "59\n",
      "61\n",
      "67\n",
      "71\n",
      "73\n",
      "79\n",
      "83\n",
      "89\n",
      "97\n",
      "101\n",
      "103\n",
      "107\n",
      "109\n",
      "113\n",
      "127\n",
      "131\n",
      "137\n",
      "139\n",
      "149\n",
      "151\n",
      "157\n",
      "163\n",
      "167\n",
      "173\n",
      "179\n",
      "181\n",
      "191\n",
      "193\n",
      "197\n",
      "199\n",
      "211\n",
      "223\n",
      "227\n",
      "229\n",
      "233\n",
      "239\n",
      "241\n",
      "251\n",
      "257\n",
      "263\n",
      "269\n",
      "271\n",
      "277\n",
      "281\n",
      "283\n",
      "293\n",
      "307\n",
      "311\n",
      "313\n",
      "317\n",
      "331\n",
      "337\n",
      "347\n",
      "349\n",
      "353\n",
      "359\n",
      "367\n",
      "373\n",
      "379\n",
      "383\n",
      "389\n",
      "397\n",
      "401\n",
      "409\n",
      "419\n",
      "421\n",
      "431\n",
      "433\n",
      "439\n",
      "443\n",
      "449\n",
      "457\n",
      "461\n",
      "463\n",
      "467\n",
      "479\n",
      "487\n",
      "491\n",
      "499\n",
      "503\n",
      "509\n",
      "521\n",
      "523\n",
      "541\n",
      "547\n",
      "557\n",
      "563\n",
      "569\n",
      "571\n",
      "577\n",
      "587\n",
      "593\n",
      "599\n",
      "601\n",
      "607\n",
      "613\n",
      "617\n",
      "619\n",
      "631\n",
      "641\n",
      "643\n",
      "647\n",
      "653\n",
      "659\n",
      "661\n",
      "673\n",
      "677\n",
      "683\n",
      "691\n",
      "701\n",
      "709\n",
      "719\n",
      "727\n",
      "733\n",
      "739\n",
      "743\n",
      "751\n",
      "757\n",
      "761\n",
      "769\n",
      "773\n",
      "787\n",
      "797\n",
      "809\n",
      "811\n",
      "821\n",
      "823\n",
      "827\n",
      "829\n",
      "839\n",
      "853\n",
      "857\n",
      "859\n",
      "863\n",
      "877\n",
      "881\n",
      "883\n",
      "887\n",
      "907\n",
      "911\n",
      "919\n",
      "929\n",
      "937\n",
      "941\n",
      "947\n",
      "953\n",
      "967\n",
      "971\n",
      "977\n",
      "983\n",
      "991\n",
      "997\n"
     ]
    }
   ],
   "source": [
    "'''Q5. Create a generator function for prime numbers less than 1000. Use the next() method to print the\n",
    "first 20 prime numbers.'''\n",
    "\n",
    "for number in range (2, 1000 + 1):  \n",
    "    if number > 1:  \n",
    "        for i in range (2, number):  \n",
    "            if (number % i) == 0:  \n",
    "                break  \n",
    "        else:  \n",
    "            print (number) "
   ]
  },
  {
   "cell_type": "code",
   "execution_count": 52,
   "id": "24e616b3-26e5-48b6-bb72-42c6718f714a",
   "metadata": {},
   "outputs": [
    {
     "name": "stdout",
     "output_type": "stream",
     "text": [
      "2\n",
      "3\n",
      "5\n",
      "7\n",
      "11\n",
      "13\n",
      "17\n",
      "19\n",
      "23\n",
      "29\n",
      "31\n",
      "37\n",
      "41\n",
      "43\n",
      "47\n"
     ]
    }
   ],
   "source": [
    "# question 5 \n",
    "\n",
    "for i in range (0, 50 + 1):  \n",
    "    if i > 1:  \n",
    "        for j in range (2, i):  \n",
    "            if (i % j) == 0:  \n",
    "                break\n",
    "        else :\n",
    "            print(i)\n",
    "        "
   ]
  },
  {
   "cell_type": "code",
   "execution_count": 55,
   "id": "8be22976-530a-4b1f-b888-5cf28f3b20c4",
   "metadata": {},
   "outputs": [],
   "source": [
    "total = range(1000)"
   ]
  },
  {
   "cell_type": "code",
   "execution_count": 63,
   "id": "f53be906-7b0e-47ec-99e5-b1eb30d45eec",
   "metadata": {},
   "outputs": [],
   "source": [
    "#question 5\n",
    "\n",
    "def f_prime():\n",
    "    prime = []\n",
    "    for i in total:\n",
    "        if i>1:\n",
    "            for j in range(2,i):\n",
    "                if i%j ==0:\n",
    "                    break\n",
    "    else:\n",
    "        yield (i)\n",
    "            "
   ]
  },
  {
   "cell_type": "code",
   "execution_count": 64,
   "id": "ae484761-7885-4246-b7a3-a558d5fc15a6",
   "metadata": {},
   "outputs": [],
   "source": [
    "pri = f_prime()"
   ]
  },
  {
   "cell_type": "code",
   "execution_count": 65,
   "id": "6e63c736-9b6a-4144-a239-2dee427af9fd",
   "metadata": {},
   "outputs": [
    {
     "name": "stdout",
     "output_type": "stream",
     "text": [
      "999\n"
     ]
    }
   ],
   "source": [
    "print(next(pri))"
   ]
  },
  {
   "cell_type": "code",
   "execution_count": 26,
   "id": "d98b0a5e-527f-4780-acc3-ac1221b423d8",
   "metadata": {},
   "outputs": [],
   "source": [
    "'''Q6. Write a python program to print the first 10 Fibonacci numbers using a while loop.'''\n",
    "\n",
    "def testf():\n",
    "    a,b = 0,1\n",
    "    while True :\n",
    "        yield a\n",
    "        a,b = b,a+b"
   ]
  },
  {
   "cell_type": "code",
   "execution_count": 27,
   "id": "9d5dee75-2ab3-434d-913e-db94c95a009a",
   "metadata": {},
   "outputs": [],
   "source": [
    "fib = testf()"
   ]
  },
  {
   "cell_type": "code",
   "execution_count": 28,
   "id": "9092ad57-d13c-44b0-811d-62fce2d542cd",
   "metadata": {},
   "outputs": [
    {
     "name": "stdout",
     "output_type": "stream",
     "text": [
      "0\n",
      "1\n",
      "1\n",
      "2\n",
      "3\n",
      "5\n",
      "8\n",
      "13\n",
      "21\n",
      "34\n"
     ]
    }
   ],
   "source": [
    "for i in range(10):\n",
    "    print(next(fib))"
   ]
  },
  {
   "cell_type": "code",
   "execution_count": 42,
   "id": "43437e96-fb4e-4a5f-b473-b54d5e731f0f",
   "metadata": {},
   "outputs": [],
   "source": [
    "'''Q7. Write a List Comprehension to iterate through the given string: ‘pwskills’.\n",
    "Expected output: ['p', 'w', 's', 'k', 'i', 'l', 'l', 's'] '''\n",
    "\n",
    "s = \"pwskills\""
   ]
  },
  {
   "cell_type": "code",
   "execution_count": 43,
   "id": "dc27fb2f-dfe0-4ef2-bae9-8933032b4dec",
   "metadata": {},
   "outputs": [],
   "source": [
    "s1= iter(s)"
   ]
  },
  {
   "cell_type": "code",
   "execution_count": 44,
   "id": "fbcf7d52-7ad2-43c2-9274-02a93f447103",
   "metadata": {},
   "outputs": [
    {
     "data": {
      "text/plain": [
       "str_iterator"
      ]
     },
     "execution_count": 44,
     "metadata": {},
     "output_type": "execute_result"
    }
   ],
   "source": [
    "type(s1)"
   ]
  },
  {
   "cell_type": "code",
   "execution_count": 45,
   "id": "ff68ff6e-e67e-4d7c-b933-2b5c83747ad9",
   "metadata": {},
   "outputs": [
    {
     "data": {
      "text/plain": [
       "['P', 'W', 'S', 'K', 'I', 'L', 'L', 'S']"
      ]
     },
     "execution_count": 45,
     "metadata": {},
     "output_type": "execute_result"
    }
   ],
   "source": [
    "list(map(lambda x: x.upper(),s1))"
   ]
  },
  {
   "cell_type": "code",
   "execution_count": 2,
   "id": "d76b3807-4793-4920-8df0-172bdcac95df",
   "metadata": {},
   "outputs": [
    {
     "name": "stdout",
     "output_type": "stream",
     "text": [
      "palendrome\n"
     ]
    }
   ],
   "source": [
    "'''Q8. Write a python program to check whether a given number is Palindrome or not using a while loop.'''\n",
    "\n",
    "\n",
    "num = 2442\n",
    "temp = num \n",
    "reverse = 0 \n",
    "while temp >0:\n",
    "    remainder = temp%10\n",
    "    reverse = (reverse * 10 ) + remainder \n",
    "    temp = temp// 10 \n",
    "if num == reverse:\n",
    "    print ('palendrome')\n",
    "else :\n",
    "    print ('not palendrome')\n"
   ]
  },
  {
   "cell_type": "code",
   "execution_count": 41,
   "id": "e8469db2-f636-464e-b946-f00116943982",
   "metadata": {},
   "outputs": [],
   "source": [
    "'''Q9. Write a code to print odd numbers from 1 to 100 using list comprehension.'''\n",
    "def odd_f():\n",
    "    d=[]\n",
    "    for i in range(100):\n",
    "        if i%2 != 0:\n",
    "             d.append(i)\n",
    "    return d\n",
    "    \n",
    "    \n",
    "# using for loop "
   ]
  },
  {
   "cell_type": "code",
   "execution_count": 42,
   "id": "f4a16285-af66-45ad-a716-66498613d3cb",
   "metadata": {},
   "outputs": [
    {
     "data": {
      "text/plain": [
       "[1,\n",
       " 3,\n",
       " 5,\n",
       " 7,\n",
       " 9,\n",
       " 11,\n",
       " 13,\n",
       " 15,\n",
       " 17,\n",
       " 19,\n",
       " 21,\n",
       " 23,\n",
       " 25,\n",
       " 27,\n",
       " 29,\n",
       " 31,\n",
       " 33,\n",
       " 35,\n",
       " 37,\n",
       " 39,\n",
       " 41,\n",
       " 43,\n",
       " 45,\n",
       " 47,\n",
       " 49,\n",
       " 51,\n",
       " 53,\n",
       " 55,\n",
       " 57,\n",
       " 59,\n",
       " 61,\n",
       " 63,\n",
       " 65,\n",
       " 67,\n",
       " 69,\n",
       " 71,\n",
       " 73,\n",
       " 75,\n",
       " 77,\n",
       " 79,\n",
       " 81,\n",
       " 83,\n",
       " 85,\n",
       " 87,\n",
       " 89,\n",
       " 91,\n",
       " 93,\n",
       " 95,\n",
       " 97,\n",
       " 99]"
      ]
     },
     "execution_count": 42,
     "metadata": {},
     "output_type": "execute_result"
    }
   ],
   "source": [
    "odd_f()"
   ]
  },
  {
   "cell_type": "code",
   "execution_count": 30,
   "id": "f040acec-f762-46f1-b5db-16d5501d06c9",
   "metadata": {},
   "outputs": [
    {
     "data": {
      "text/plain": [
       "[1, 3, 5, 7, 9, 11, 13, 15, 17, 19, 21, 23, 25, 27, 29]"
      ]
     },
     "execution_count": 30,
     "metadata": {},
     "output_type": "execute_result"
    }
   ],
   "source": [
    "# using filter\n",
    "list(filter(lambda x: x%2!=0, range(30)))"
   ]
  },
  {
   "cell_type": "code",
   "execution_count": 44,
   "id": "ec657ad8-bf39-4f9e-b74c-0010773fe435",
   "metadata": {},
   "outputs": [
    {
     "name": "stdout",
     "output_type": "stream",
     "text": [
      "[1, 3, 5, 7, 9, 11, 13, 15, 17, 19, 21, 23, 25, 27, 29, 31, 33, 35, 37, 39, 41, 43, 45, 47, 49, 51, 53, 55, 57, 59, 61, 63, 65, 67, 69, 71, 73, 75, 77, 79, 81, 83, 85, 87, 89, 91, 93, 95, 97, 99]\n"
     ]
    }
   ],
   "source": [
    "# using list comprehension\n",
    "list1 = [i for i in range(100) if i%2!=0]\n",
    "print(list1)"
   ]
  },
  {
   "cell_type": "code",
   "execution_count": null,
   "id": "c034147e-807b-4215-b4e4-5a4ab4e87a39",
   "metadata": {},
   "outputs": [],
   "source": []
  }
 ],
 "metadata": {
  "kernelspec": {
   "display_name": "Python 3 (ipykernel)",
   "language": "python",
   "name": "python3"
  },
  "language_info": {
   "codemirror_mode": {
    "name": "ipython",
    "version": 3
   },
   "file_extension": ".py",
   "mimetype": "text/x-python",
   "name": "python",
   "nbconvert_exporter": "python",
   "pygments_lexer": "ipython3",
   "version": "3.10.8"
  }
 },
 "nbformat": 4,
 "nbformat_minor": 5
}
